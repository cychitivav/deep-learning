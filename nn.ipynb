{
 "cells": [
  {
   "cell_type": "code",
   "execution_count": 2,
   "metadata": {},
   "outputs": [],
   "source": [
    "import torch\n",
    "import torch.nn as nn\n",
    "\n",
    "import torch.nn.functional as F\n"
   ]
  },
  {
   "cell_type": "code",
   "execution_count": null,
   "metadata": {},
   "outputs": [],
   "source": [
    "class Net(nn.Module):\n",
    "    def __init__(self, num_channels):\n",
    "        super(Net, self).__init__()\n",
    "\n",
    "        self.num_channels = num_channels\n",
    "\n",
    "        self.conv1 = nn.Conv2d(3, self.num_channels, 1,  1)\n",
    "        self.conv2 = nn.Conv2d(self.num_channels, self.num_channels*2, 1, 1)\n",
    "        self.conv3 = nn.Conv2d(self.num_channels*2, self.num_channels*4, 1, 1)\n",
    "\n",
    "        self.fc1 = nn.Linear(self.num_channels*4*8*8, self.num_channels*4)\n",
    "        self.fc2 = nn.Linear(self.num_channels*4, 6) # Signs 0, 1, 2, 3, 4, 5 (6 classes)\n",
    "\n",
    "\n",
    "    def forward(self, x):\n",
    "        # 3x64x64\n",
    "        x = self.conv1(x)  # num_channels x 64 x 64\n",
    "        x = F.relu(F.max_pool2d(x, 2))  # num_channels x 32 x 32\n",
    "\n",
    "        x = self.conv2(x)  # num_channels*2 x 32 x 32\n",
    "        x = F.relu(F.max_pool2d(x, 2))  # num_channels*2 x 16 x 16\n",
    "\n",
    "        x = self.conv3(x)  # num_channels*4 x 16 x 16\n",
    "        x = F.relu(F.max_pool2d(x, 2))  # num_channels*4 x 8 x 8\n",
    "\n",
    "        # Flatten\n",
    "        x = x.view(-1, self.num_channels*4*8*8)  # num_channels*4*8*8\n",
    "\n",
    "        x = self.fc1(x)  # num_channels*4*8*8\n",
    "        x = F.relu(x)\n",
    "\n",
    "        x = self.fc2(x)  # 6\n",
    "        x = F.log_softmax(x, dim=1)\n"
   ]
  },
  {
   "cell_type": "code",
   "execution_count": null,
   "metadata": {},
   "outputs": [],
   "source": []
  }
 ],
 "metadata": {
  "kernelspec": {
   "display_name": "Python 3",
   "language": "python",
   "name": "python3"
  },
  "language_info": {
   "codemirror_mode": {
    "name": "ipython",
    "version": 3
   },
   "file_extension": ".py",
   "mimetype": "text/x-python",
   "name": "python",
   "nbconvert_exporter": "python",
   "pygments_lexer": "ipython3",
   "version": "3.10.8 (tags/v3.10.8:aaaf517, Oct 11 2022, 16:50:30) [MSC v.1933 64 bit (AMD64)]"
  },
  "orig_nbformat": 4,
  "vscode": {
   "interpreter": {
    "hash": "43973268aa23c7cf4b4cafe0e819fac9b2412fcc991a21988492c3271a4e3f9b"
   }
  }
 },
 "nbformat": 4,
 "nbformat_minor": 2
}
