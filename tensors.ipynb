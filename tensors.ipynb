{
 "cells": [
  {
   "attachments": {},
   "cell_type": "markdown",
   "metadata": {},
   "source": [
    "# Tensors\n",
    "\n",
    "<div align=\"center\">\n",
    "\n",
    "<img src=\"https://user-images.githubusercontent.com/30636259/206873359-570aafd5-f906-4c63-a60c-b1ff62fd1775.png\" width=\"800px\"/>\n",
    "\n",
    "</div>\n",
    "\n",
    "### What is a tensor?\n",
    "A tensor is a generalization of vectors and matrices to potentially higher dimensions. Internally, PyTorch represents tensors as n-dimensional arrays. Tensors are similar to NumPy’s ndarrays, except that tensors can run on GPUs or other specialized hardware to accelerate computing."
   ]
  },
  {
   "cell_type": "markdown",
   "metadata": {},
   "source": [
    "## Tensor creation"
   ]
  },
  {
   "cell_type": "code",
   "execution_count": 14,
   "metadata": {},
   "outputs": [
    {
     "name": "stdout",
     "output_type": "stream",
     "text": [
      "tensor([[[ 0.6891,  1.0174,  0.9346,  0.3579, -0.1727],\n",
      "         [ 0.5856,  0.5580,  0.6725,  0.2370,  0.1169],\n",
      "         [-0.5576,  0.5395,  1.2833,  1.7094,  0.6876]],\n",
      "\n",
      "        [[-2.0420,  1.9101, -0.5104,  1.2429, -0.0421],\n",
      "         [-1.3377, -0.2533, -1.5394, -0.8681,  0.5586],\n",
      "         [ 1.0478, -0.8631, -1.2062, -1.0321,  0.0848]],\n",
      "\n",
      "        [[-0.6572, -1.0172, -1.6541, -0.4705, -3.2079],\n",
      "         [-1.7718,  0.2626,  0.1518,  0.3072, -0.2445],\n",
      "         [ 1.5991,  0.6791, -0.9603, -0.7030,  0.3892]],\n",
      "\n",
      "        [[ 0.1241,  1.2115, -0.3086, -0.0449, -0.1940],\n",
      "         [-1.2796,  0.1195,  0.2883, -2.0981,  0.8086],\n",
      "         [-0.3059,  1.4971,  0.0508, -0.6883, -0.2158]],\n",
      "\n",
      "        [[ 0.8234,  0.0766, -0.1505, -0.4817,  0.8688],\n",
      "         [-0.9505, -1.0981,  0.1937,  0.7871, -1.4882],\n",
      "         [ 0.3619,  1.0449,  0.1715, -1.0768,  0.3769]],\n",
      "\n",
      "        [[-0.1499, -0.7803, -1.6830,  0.8545,  0.4780],\n",
      "         [ 1.1892,  0.3434,  0.9420,  1.0315,  1.4999],\n",
      "         [-0.9968, -0.7962, -0.7610,  0.3963, -0.0230]],\n",
      "\n",
      "        [[ 0.2089,  1.1409, -1.5158, -0.5356, -0.1743],\n",
      "         [-0.5998,  0.6339,  1.3943,  0.3017, -0.5408],\n",
      "         [ 0.4096, -0.0377,  0.2923, -0.9802,  0.2990]],\n",
      "\n",
      "        [[ 1.0567,  2.1731,  0.3316, -0.2013,  0.1653],\n",
      "         [ 0.3425,  1.7342,  0.4821, -0.1328, -1.6744],\n",
      "         [ 0.4326,  0.2034,  0.0601,  0.7418,  0.9200]]])\n"
     ]
    }
   ],
   "source": [
    "import torch\n",
    "\n",
    "A = torch.randn((8,3,5))\n",
    "\n",
    "print(A)"
   ]
  },
  {
   "cell_type": "markdown",
   "metadata": {},
   "source": [
    "### Tensor dimensions and rank\n",
    "A tensor’s rank is its number of dimensions. A tensor that’s 0-dimensional is a scalar, 1-dimensional is a vector, 2-dimensional is a matrix, and so forth. In this example, we have a rank 3 tensor with dimensions $8\\times3\\times5$."
   ]
  },
  {
   "cell_type": "code",
   "execution_count": 15,
   "metadata": {},
   "outputs": [
    {
     "name": "stdout",
     "output_type": "stream",
     "text": [
      "torch.Size([8, 3, 5])\n"
     ]
    }
   ],
   "source": [
    "print(A.size())"
   ]
  },
  {
   "attachments": {},
   "cell_type": "markdown",
   "metadata": {},
   "source": [
    "### Indexing\n",
    "Tensors can be indexed using standard Python indexing syntax or list slicing syntax. The elements of a tensor can be accessed using the square brackets. The indices are in the order of dimensions, with the first dimension being the outermost. \n",
    "\n",
    "#### Standard indexing\n",
    "The following example shows how to access the elements of a tensor.\n",
    "\n",
    "<div align=\"center\">\n",
    "\n",
    "<img src=\"https://user-images.githubusercontent.com/30636259/206873403-f3f031ef-b4bf-4a70-b406-3e6b3b4d24a4.png\" width=\"150\">\n",
    "\n",
    "</div>"
   ]
  },
  {
   "cell_type": "code",
   "execution_count": 16,
   "metadata": {},
   "outputs": [
    {
     "name": "stdout",
     "output_type": "stream",
     "text": [
      "tensor(0.6891)\n",
      "tensor(0.6891)\n"
     ]
    }
   ],
   "source": [
    "print(A[0][0][0])\n",
    "\n",
    "print(A[0,0,0])"
   ]
  },
  {
   "attachments": {},
   "cell_type": "markdown",
   "metadata": {},
   "source": [
    "#### List slicing\n",
    "In addition to standard indexing, PyTorch provides list slicing syntax. The syntax is similar to NumPy’s, except that tensors can be sliced along multiple dimensions. In this example, we slice along the second dimension, namely the rows.\n",
    "\n",
    "<div align=\"center\">\n",
    "\n",
    "<img src=\"https://user-images.githubusercontent.com/30636259/206873569-0e085349-e75a-4609-83aa-b1a75ad690a7.png\" width=\"150\">\n",
    "<img src=\"https://user-images.githubusercontent.com/30636259/206873800-b6906d29-96d4-4b3e-9000-ed7358993ba0.png\" width=\"150\">\n",
    "\n",
    "</div>"
   ]
  },
  {
   "cell_type": "code",
   "execution_count": 17,
   "metadata": {},
   "outputs": [
    {
     "name": "stdout",
     "output_type": "stream",
     "text": [
      "tensor([ 0.6891,  0.5856, -0.5576])\n",
      "tensor([ 0.6891,  1.0174,  0.9346,  0.3579, -0.1727])\n"
     ]
    }
   ],
   "source": [
    "print(A[0,:,0])\n",
    "\n",
    "print(A[0,0,:])"
   ]
  },
  {
   "attachments": {},
   "cell_type": "markdown",
   "metadata": {},
   "source": [
    "### Zero tensors\n",
    "A tensor filled with zeros is useful for initializing weights in neural networks. The following example shows how to create a tensor of zeros with the same shape as another tensor."
   ]
  },
  {
   "cell_type": "code",
   "execution_count": 18,
   "metadata": {},
   "outputs": [
    {
     "name": "stdout",
     "output_type": "stream",
     "text": [
      "tensor([[[0., 0., 0., 0., 0.],\n",
      "         [0., 0., 0., 0., 0.],\n",
      "         [0., 0., 0., 0., 0.]],\n",
      "\n",
      "        [[0., 0., 0., 0., 0.],\n",
      "         [0., 0., 0., 0., 0.],\n",
      "         [0., 0., 0., 0., 0.]],\n",
      "\n",
      "        [[0., 0., 0., 0., 0.],\n",
      "         [0., 0., 0., 0., 0.],\n",
      "         [0., 0., 0., 0., 0.]],\n",
      "\n",
      "        [[0., 0., 0., 0., 0.],\n",
      "         [0., 0., 0., 0., 0.],\n",
      "         [0., 0., 0., 0., 0.]],\n",
      "\n",
      "        [[0., 0., 0., 0., 0.],\n",
      "         [0., 0., 0., 0., 0.],\n",
      "         [0., 0., 0., 0., 0.]],\n",
      "\n",
      "        [[0., 0., 0., 0., 0.],\n",
      "         [0., 0., 0., 0., 0.],\n",
      "         [0., 0., 0., 0., 0.]],\n",
      "\n",
      "        [[0., 0., 0., 0., 0.],\n",
      "         [0., 0., 0., 0., 0.],\n",
      "         [0., 0., 0., 0., 0.]],\n",
      "\n",
      "        [[0., 0., 0., 0., 0.],\n",
      "         [0., 0., 0., 0., 0.],\n",
      "         [0., 0., 0., 0., 0.]]])\n"
     ]
    }
   ],
   "source": [
    "B = torch.zeros_like(A)\n",
    "\n",
    "print(B)"
   ]
  },
  {
   "cell_type": "code",
   "execution_count": 19,
   "metadata": {},
   "outputs": [
    {
     "name": "stdout",
     "output_type": "stream",
     "text": [
      "tensor([[0., 0., 0., 0., 0.],\n",
      "        [0., 0., 0., 0., 0.],\n",
      "        [0., 0., 0., 0., 0.],\n",
      "        [0., 0., 0., 0., 0.],\n",
      "        [0., 0., 0., 0., 0.]])\n",
      "Dtype:\n",
      "torch.float32\n"
     ]
    }
   ],
   "source": [
    "C = torch.zeros((5,5))\n",
    "\n",
    "print(C)"
   ]
  },
  {
   "attachments": {},
   "cell_type": "markdown",
   "metadata": {},
   "source": [
    "### Data types\n",
    "Tensors can have different data types. The default data type is `torch.float32`. "
   ]
  },
  {
   "cell_type": "code",
   "execution_count": 22,
   "metadata": {},
   "outputs": [
    {
     "name": "stdout",
     "output_type": "stream",
     "text": [
      "torch.float32\n",
      "torch.int64\n"
     ]
    }
   ],
   "source": [
    "print(C.dtype)\n",
    "\n",
    "D = torch.randint(2, (5,5))\n",
    "\n",
    "print(D.dtype)"
   ]
  },
  {
   "attachments": {},
   "cell_type": "markdown",
   "metadata": {},
   "source": [
    "To set the default data type, use `torch.set_default_dtype`. The following example shows how to set the default data type to `torch.float32`."
   ]
  },
  {
   "cell_type": "code",
   "execution_count": 25,
   "metadata": {},
   "outputs": [
    {
     "name": "stdout",
     "output_type": "stream",
     "text": [
      "torch.float32\n"
     ]
    }
   ],
   "source": [
    "torch.set_default_tensor_type('torch.FloatTensor')\n",
    "\n",
    "E = torch.randn((5,5))\n",
    "print(E.dtype)"
   ]
  },
  {
   "attachments": {},
   "cell_type": "markdown",
   "metadata": {},
   "source": [
    "## Device\n",
    "In PyTorch, the device on which a tensor is stored is called the device. The device can be a CPU or a GPU. The following example shows how to check the device on which a tensor is stored."
   ]
  },
  {
   "cell_type": "code",
   "execution_count": 26,
   "metadata": {},
   "outputs": [
    {
     "name": "stdout",
     "output_type": "stream",
     "text": [
      "cpu\n"
     ]
    }
   ],
   "source": [
    "print(C.device)"
   ]
  },
  {
   "cell_type": "code",
   "execution_count": 31,
   "metadata": {},
   "outputs": [
    {
     "name": "stdout",
     "output_type": "stream",
     "text": [
      "False\n",
      "cpu\n"
     ]
    }
   ],
   "source": [
    "print(torch.cuda.is_available())\n",
    "\n",
    "device = torch.device(\"cuda:0\" if torch.cuda.is_available() else \"cpu\")\n",
    "\n",
    "print(device)"
   ]
  }
 ],
 "metadata": {
  "kernelspec": {
   "display_name": "Python 3.10.8 64-bit",
   "language": "python",
   "name": "python3"
  },
  "language_info": {
   "codemirror_mode": {
    "name": "ipython",
    "version": 3
   },
   "file_extension": ".py",
   "mimetype": "text/x-python",
   "name": "python",
   "nbconvert_exporter": "python",
   "pygments_lexer": "ipython3",
   "version": "3.10.8"
  },
  "orig_nbformat": 4,
  "vscode": {
   "interpreter": {
    "hash": "43973268aa23c7cf4b4cafe0e819fac9b2412fcc991a21988492c3271a4e3f9b"
   }
  }
 },
 "nbformat": 4,
 "nbformat_minor": 2
}
