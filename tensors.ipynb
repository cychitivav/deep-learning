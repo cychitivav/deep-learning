{
 "cells": [
  {
   "attachments": {},
   "cell_type": "markdown",
   "metadata": {},
   "source": [
    "# Tensors\n",
    "\n",
    "<div align=\"center\">\n",
    "\n",
    "<img src=\"https://user-images.githubusercontent.com/30636259/206873359-570aafd5-f906-4c63-a60c-b1ff62fd1775.png\" width=\"800px\"/>\n",
    "\n",
    "</div>\n",
    "\n",
    "### What is a tensor?\n",
    "A tensor is a generalization of vectors and matrices to potentially higher dimensions. Internally, PyTorch represents tensors as n-dimensional arrays. Tensors are similar to NumPy’s ndarrays, except that tensors can run on GPUs or other specialized hardware to accelerate computing."
   ]
  },
  {
   "cell_type": "markdown",
   "metadata": {},
   "source": [
    "## Tensor creation"
   ]
  },
  {
   "cell_type": "code",
   "execution_count": 32,
   "metadata": {},
   "outputs": [
    {
     "name": "stdout",
     "output_type": "stream",
     "text": [
      "tensor([[[ 1.0335, -0.6808, -0.3600,  0.3375, -1.1420],\n",
      "         [-0.8325, -1.0815, -1.8638,  0.9452, -1.6982],\n",
      "         [ 0.3543,  0.9681,  0.0314, -1.3546, -0.7287]],\n",
      "\n",
      "        [[ 0.5415, -0.1289,  1.5842, -2.4691, -2.6302],\n",
      "         [ 0.1377,  1.1279, -1.8205,  0.2448,  0.4216],\n",
      "         [ 0.2274,  0.9222, -0.2345, -0.2427,  0.4415]],\n",
      "\n",
      "        [[ 0.1186, -0.5445,  0.2170,  1.4974,  0.2287],\n",
      "         [-0.0571,  1.7701, -0.2001, -0.4345,  1.2243],\n",
      "         [ 0.2963, -1.5214,  0.6361, -0.1708, -0.3903]],\n",
      "\n",
      "        [[ 0.5692,  0.7574, -0.1428,  1.4927,  1.1319],\n",
      "         [-1.8052, -0.4870, -1.1509,  0.6461,  0.9721],\n",
      "         [ 0.2242, -0.1923, -0.1664, -1.2535,  0.4485]],\n",
      "\n",
      "        [[ 0.3022, -0.6029,  0.5104,  2.3391, -0.2766],\n",
      "         [ 1.3616,  1.6009,  0.1421,  0.2040, -0.3887],\n",
      "         [ 1.0762, -2.3769, -0.1857, -0.7428, -1.0654]],\n",
      "\n",
      "        [[-0.2961, -0.3734,  0.7450, -0.1213,  1.3723],\n",
      "         [ 0.5219,  0.6260,  0.5116,  0.6826,  1.2338],\n",
      "         [-0.7968, -0.4690, -0.2460, -0.3337,  0.3163]],\n",
      "\n",
      "        [[-0.4544, -0.1904,  1.1519, -0.7257, -0.5165],\n",
      "         [-0.2958, -0.1305,  0.7955,  0.0120,  1.0463],\n",
      "         [ 1.4008,  0.1943, -0.5916,  2.3206,  1.2414]],\n",
      "\n",
      "        [[ 1.0056, -0.5729,  0.2812, -0.2213, -0.2009],\n",
      "         [-0.6899, -1.1084,  0.8779, -0.2909, -1.1896],\n",
      "         [ 1.8050, -0.5993,  1.0879, -0.3662,  0.6204]]])\n"
     ]
    }
   ],
   "source": [
    "import torch\n",
    "\n",
    "A = torch.randn((8,3,5))\n",
    "\n",
    "print(A)"
   ]
  },
  {
   "cell_type": "markdown",
   "metadata": {},
   "source": [
    "### Tensor dimensions and rank\n",
    "A tensor’s rank is its number of dimensions. A tensor that’s 0-dimensional is a scalar, 1-dimensional is a vector, 2-dimensional is a matrix, and so forth. In this example, we have a rank 3 tensor with dimensions $8\\times3\\times5$."
   ]
  },
  {
   "cell_type": "code",
   "execution_count": 33,
   "metadata": {},
   "outputs": [
    {
     "name": "stdout",
     "output_type": "stream",
     "text": [
      "torch.Size([8, 3, 5])\n"
     ]
    }
   ],
   "source": [
    "print(A.size())"
   ]
  },
  {
   "attachments": {},
   "cell_type": "markdown",
   "metadata": {},
   "source": [
    "### Indexing\n",
    "Tensors can be indexed using standard Python indexing syntax or list slicing syntax. The elements of a tensor can be accessed using the square brackets. The indices are in the order of dimensions, with the first dimension being the outermost. \n",
    "\n",
    "#### Standard indexing\n",
    "The following example shows how to access the elements of a tensor.\n",
    "\n",
    "<div align=\"center\">\n",
    "\n",
    "<img src=\"https://user-images.githubusercontent.com/30636259/206873403-f3f031ef-b4bf-4a70-b406-3e6b3b4d24a4.png\" width=\"150\">\n",
    "\n",
    "</div>"
   ]
  },
  {
   "cell_type": "code",
   "execution_count": 34,
   "metadata": {},
   "outputs": [
    {
     "name": "stdout",
     "output_type": "stream",
     "text": [
      "tensor(1.0335)\n",
      "tensor(1.0335)\n"
     ]
    }
   ],
   "source": [
    "print(A[0][0][0])\n",
    "\n",
    "print(A[0,0,0])"
   ]
  },
  {
   "attachments": {},
   "cell_type": "markdown",
   "metadata": {},
   "source": [
    "#### List slicing\n",
    "In addition to standard indexing, PyTorch provides list slicing syntax. The syntax is similar to NumPy’s, except that tensors can be sliced along multiple dimensions. In this example, we slice along the second dimension, namely the rows.\n",
    "\n",
    "<div align=\"center\">\n",
    "\n",
    "<img src=\"https://user-images.githubusercontent.com/30636259/206873569-0e085349-e75a-4609-83aa-b1a75ad690a7.png\" width=\"150\">\n",
    "<img src=\"https://user-images.githubusercontent.com/30636259/206873800-b6906d29-96d4-4b3e-9000-ed7358993ba0.png\" width=\"150\">\n",
    "\n",
    "</div>"
   ]
  },
  {
   "cell_type": "code",
   "execution_count": 35,
   "metadata": {},
   "outputs": [
    {
     "name": "stdout",
     "output_type": "stream",
     "text": [
      "tensor([ 1.0335, -0.8325,  0.3543])\n",
      "tensor([ 1.0335, -0.6808, -0.3600,  0.3375, -1.1420])\n"
     ]
    }
   ],
   "source": [
    "print(A[0,:,0])\n",
    "\n",
    "print(A[0,0,:])"
   ]
  },
  {
   "attachments": {},
   "cell_type": "markdown",
   "metadata": {},
   "source": [
    "### Zero tensors\n",
    "A tensor filled with zeros is useful for initializing weights in neural networks. The following example shows how to create a tensor of zeros with the same shape as another tensor."
   ]
  },
  {
   "cell_type": "code",
   "execution_count": 36,
   "metadata": {},
   "outputs": [
    {
     "name": "stdout",
     "output_type": "stream",
     "text": [
      "tensor([[[0., 0., 0., 0., 0.],\n",
      "         [0., 0., 0., 0., 0.],\n",
      "         [0., 0., 0., 0., 0.]],\n",
      "\n",
      "        [[0., 0., 0., 0., 0.],\n",
      "         [0., 0., 0., 0., 0.],\n",
      "         [0., 0., 0., 0., 0.]],\n",
      "\n",
      "        [[0., 0., 0., 0., 0.],\n",
      "         [0., 0., 0., 0., 0.],\n",
      "         [0., 0., 0., 0., 0.]],\n",
      "\n",
      "        [[0., 0., 0., 0., 0.],\n",
      "         [0., 0., 0., 0., 0.],\n",
      "         [0., 0., 0., 0., 0.]],\n",
      "\n",
      "        [[0., 0., 0., 0., 0.],\n",
      "         [0., 0., 0., 0., 0.],\n",
      "         [0., 0., 0., 0., 0.]],\n",
      "\n",
      "        [[0., 0., 0., 0., 0.],\n",
      "         [0., 0., 0., 0., 0.],\n",
      "         [0., 0., 0., 0., 0.]],\n",
      "\n",
      "        [[0., 0., 0., 0., 0.],\n",
      "         [0., 0., 0., 0., 0.],\n",
      "         [0., 0., 0., 0., 0.]],\n",
      "\n",
      "        [[0., 0., 0., 0., 0.],\n",
      "         [0., 0., 0., 0., 0.],\n",
      "         [0., 0., 0., 0., 0.]]])\n"
     ]
    }
   ],
   "source": [
    "B = torch.zeros_like(A)\n",
    "\n",
    "print(B)"
   ]
  },
  {
   "cell_type": "code",
   "execution_count": 37,
   "metadata": {},
   "outputs": [
    {
     "name": "stdout",
     "output_type": "stream",
     "text": [
      "tensor([[0., 0., 0., 0., 0.],\n",
      "        [0., 0., 0., 0., 0.],\n",
      "        [0., 0., 0., 0., 0.],\n",
      "        [0., 0., 0., 0., 0.],\n",
      "        [0., 0., 0., 0., 0.]])\n"
     ]
    }
   ],
   "source": [
    "C = torch.zeros((5,5))\n",
    "\n",
    "print(C)"
   ]
  },
  {
   "attachments": {},
   "cell_type": "markdown",
   "metadata": {},
   "source": [
    "### Data types\n",
    "Tensors can have different data types. The default data type is `torch.float32`. "
   ]
  },
  {
   "cell_type": "code",
   "execution_count": 38,
   "metadata": {},
   "outputs": [
    {
     "name": "stdout",
     "output_type": "stream",
     "text": [
      "torch.float32\n",
      "torch.int64\n"
     ]
    }
   ],
   "source": [
    "print(C.dtype)\n",
    "\n",
    "D = torch.randint(2, (5,5))\n",
    "\n",
    "print(D.dtype)"
   ]
  },
  {
   "attachments": {},
   "cell_type": "markdown",
   "metadata": {},
   "source": [
    "To set the default data type, use `torch.set_default_dtype`. The following example shows how to set the default data type to `torch.float32`."
   ]
  },
  {
   "cell_type": "code",
   "execution_count": 39,
   "metadata": {},
   "outputs": [
    {
     "name": "stdout",
     "output_type": "stream",
     "text": [
      "torch.float32\n"
     ]
    }
   ],
   "source": [
    "torch.set_default_tensor_type('torch.FloatTensor')\n",
    "\n",
    "E = torch.randn((5,5))\n",
    "print(E.dtype)"
   ]
  },
  {
   "attachments": {},
   "cell_type": "markdown",
   "metadata": {},
   "source": [
    "## Device\n",
    "In PyTorch, the device on which a tensor is stored is called the device. The device can be a CPU or a GPU. The following example shows how to check the device on which a tensor is stored."
   ]
  },
  {
   "cell_type": "code",
   "execution_count": 40,
   "metadata": {},
   "outputs": [
    {
     "name": "stdout",
     "output_type": "stream",
     "text": [
      "cpu\n"
     ]
    }
   ],
   "source": [
    "print(C.device)"
   ]
  },
  {
   "cell_type": "code",
   "execution_count": 41,
   "metadata": {},
   "outputs": [
    {
     "name": "stdout",
     "output_type": "stream",
     "text": [
      "False\n",
      "cpu\n"
     ]
    }
   ],
   "source": [
    "print(torch.cuda.is_available())\n",
    "\n",
    "device = torch.device(\"cuda:0\" if torch.cuda.is_available() else \"cpu\")\n",
    "\n",
    "print(device)"
   ]
  },
  {
   "cell_type": "code",
   "execution_count": 44,
   "metadata": {},
   "outputs": [
    {
     "name": "stdout",
     "output_type": "stream",
     "text": [
      "tensor([[0, 1, 1, 0, 1],\n",
      "        [0, 0, 1, 1, 0],\n",
      "        [0, 1, 1, 1, 1],\n",
      "        [0, 1, 1, 0, 0],\n",
      "        [1, 1, 0, 1, 1]])\n"
     ]
    }
   ],
   "source": [
    "D = D.to(device)\n",
    "\n",
    "print(D)"
   ]
  }
 ],
 "metadata": {
  "kernelspec": {
   "display_name": "Python 3.10.8 64-bit",
   "language": "python",
   "name": "python3"
  },
  "language_info": {
   "codemirror_mode": {
    "name": "ipython",
    "version": 3
   },
   "file_extension": ".py",
   "mimetype": "text/x-python",
   "name": "python",
   "nbconvert_exporter": "python",
   "pygments_lexer": "ipython3",
   "version": "3.10.8"
  },
  "orig_nbformat": 4,
  "vscode": {
   "interpreter": {
    "hash": "43973268aa23c7cf4b4cafe0e819fac9b2412fcc991a21988492c3271a4e3f9b"
   }
  }
 },
 "nbformat": 4,
 "nbformat_minor": 2
}
