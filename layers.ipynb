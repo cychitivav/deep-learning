{
 "cells": [
  {
   "cell_type": "code",
   "execution_count": 2,
   "metadata": {},
   "outputs": [],
   "source": [
    "import torch \n",
    "import torch.nn as nn\n",
    "\n",
    "linear = nn.Linear(in_features=4096, out_features=10)\n",
    "conv = nn.Conv2d(in_channels=3, out_channels=9, kernel_size=3, stride=1, padding=1) # No modification to the input size, just the number of channels\n",
    "\n",
    "relu = nn.ReLU(inplace=False)\n"
   ]
  },
  {
   "cell_type": "code",
   "execution_count": 5,
   "metadata": {},
   "outputs": [
    {
     "name": "stdout",
     "output_type": "stream",
     "text": [
      "torch.Size([4096]) torch.Size([10])\n"
     ]
    }
   ],
   "source": [
    "x = torch.randn(4096)\n",
    "\n",
    "y = linear(x)\n",
    "\n",
    "print(x.shape, y.shape)"
   ]
  },
  {
   "cell_type": "code",
   "execution_count": 8,
   "metadata": {},
   "outputs": [
    {
     "name": "stdout",
     "output_type": "stream",
     "text": [
      "torch.Size([1, 3, 7, 7]) torch.Size([1, 9, 7, 7]) torch.Size([1, 9, 7, 7])\n"
     ]
    }
   ],
   "source": [
    "x = torch.randn(1, 3, 7, 7) # 1 image, 3 channels, 7x7 pixels\n",
    "\n",
    "y = conv(x)\n",
    "z = relu(y)\n",
    "\n",
    "print(x.shape, y.shape, z.shape)\n",
    "\n",
    "print(x, y, z, sep='\\n')"
   ]
  }
 ],
 "metadata": {
  "kernelspec": {
   "display_name": "Python 3",
   "language": "python",
   "name": "python3"
  },
  "language_info": {
   "codemirror_mode": {
    "name": "ipython",
    "version": 3
   },
   "file_extension": ".py",
   "mimetype": "text/x-python",
   "name": "python",
   "nbconvert_exporter": "python",
   "pygments_lexer": "ipython3",
   "version": "3.10.8"
  },
  "orig_nbformat": 4,
  "vscode": {
   "interpreter": {
    "hash": "43973268aa23c7cf4b4cafe0e819fac9b2412fcc991a21988492c3271a4e3f9b"
   }
  }
 },
 "nbformat": 4,
 "nbformat_minor": 2
}
